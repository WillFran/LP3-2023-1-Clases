{
 "cells": [
  {
   "cell_type": "markdown",
   "id": "37687029",
   "metadata": {},
   "source": [
    "# Semana03\n",
    "Willy Delgado Tuanama"
   ]
  },
  {
   "cell_type": "raw",
   "id": "bd129744",
   "metadata": {},
   "source": [
    "Temas: \n",
    "    1. Números\n",
    "    2. Variables\n",
    "    3. Manejo de cadenas\n",
    "    4. Ingreso de datos por teclado\n",
    "    5. Operadores"
   ]
  },
  {
   "cell_type": "markdown",
   "id": "07b5395f",
   "metadata": {},
   "source": [
    "2. Variables"
   ]
  },
  {
   "cell_type": "code",
   "execution_count": 1,
   "id": "bba79c52",
   "metadata": {},
   "outputs": [],
   "source": [
    "#Siempre deben iniciar con una letra o un guion abajo. (nunca con un numero o un simbolo)"
   ]
  },
  {
   "cell_type": "code",
   "execution_count": 2,
   "id": "0e405a78",
   "metadata": {},
   "outputs": [],
   "source": [
    "edad = 19"
   ]
  },
  {
   "cell_type": "code",
   "execution_count": 10,
   "id": "f2dac0c6",
   "metadata": {},
   "outputs": [
    {
     "data": {
      "text/plain": [
       "19"
      ]
     },
     "execution_count": 10,
     "metadata": {},
     "output_type": "execute_result"
    }
   ],
   "source": [
    "edad"
   ]
  },
  {
   "cell_type": "code",
   "execution_count": 11,
   "id": "07de144e",
   "metadata": {},
   "outputs": [],
   "source": [
    "nombre = \"Willy Francis\""
   ]
  },
  {
   "cell_type": "code",
   "execution_count": 12,
   "id": "c708a4cd",
   "metadata": {},
   "outputs": [
    {
     "data": {
      "text/plain": [
       "'Willy Francis'"
      ]
     },
     "execution_count": 12,
     "metadata": {},
     "output_type": "execute_result"
    }
   ],
   "source": [
    "nombre"
   ]
  },
  {
   "cell_type": "code",
   "execution_count": 16,
   "id": "90a97a1b",
   "metadata": {},
   "outputs": [],
   "source": [
    "apellido = \" Delgado Tuanama\""
   ]
  },
  {
   "cell_type": "code",
   "execution_count": 9,
   "id": "72251461",
   "metadata": {},
   "outputs": [
    {
     "data": {
      "text/plain": [
       "'Delgado Tuanama'"
      ]
     },
     "execution_count": 9,
     "metadata": {},
     "output_type": "execute_result"
    }
   ],
   "source": [
    "apellido"
   ]
  },
  {
   "cell_type": "code",
   "execution_count": 17,
   "id": "0d656815",
   "metadata": {},
   "outputs": [
    {
     "data": {
      "text/plain": [
       "'Willy Francis Delgado Tuanama'"
      ]
     },
     "execution_count": 17,
     "metadata": {},
     "output_type": "execute_result"
    }
   ],
   "source": [
    "nombrecompleto = nombre + apellido\n",
    "nombrecompleto"
   ]
  },
  {
   "cell_type": "code",
   "execution_count": null,
   "id": "79169a09",
   "metadata": {},
   "outputs": [],
   "source": []
  }
 ],
 "metadata": {
  "kernelspec": {
   "display_name": "Python 3 (ipykernel)",
   "language": "python",
   "name": "python3"
  },
  "language_info": {
   "codemirror_mode": {
    "name": "ipython",
    "version": 3
   },
   "file_extension": ".py",
   "mimetype": "text/x-python",
   "name": "python",
   "nbconvert_exporter": "python",
   "pygments_lexer": "ipython3",
   "version": "3.9.12"
  }
 },
 "nbformat": 4,
 "nbformat_minor": 5
}
